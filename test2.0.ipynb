{
 "cells": [
  {
   "cell_type": "code",
   "execution_count": 1,
   "metadata": {},
   "outputs": [],
   "source": [
    "import numpy as np\n",
    "import pandas as pd\n",
    "import os\n",
    "import sys as sys\n",
    "import lightgbm as lgb\n",
    "from sklearn.externals import joblib\n",
    "import matplotlib.pyplot as plt\n",
    "%matplotlib notebook\n",
    "from sklearn.model_selection import train_test_split\n",
    "from sklearn.model_selection import KFold,StratifiedKFold"
   ]
  },
  {
   "cell_type": "code",
   "execution_count": 2,
   "metadata": {},
   "outputs": [],
   "source": [
    "path = '工程机械寿命预测选手/工程机械寿命预测选手/train/'"
   ]
  },
  {
   "cell_type": "code",
   "execution_count": 3,
   "metadata": {},
   "outputs": [],
   "source": [
    "#处理统计数据\n",
    "def stat(data,c,name):\n",
    "        c[name + '_max'] = data.max()\n",
    "        c[name + '_min'] = data.min()\n",
    "        c[name + '_count'] = data.count()\n",
    "        c[name + '_median'] = data.median()\n",
    "        c[name + '_mean'] = data.mean()\n",
    "        c[name + '_ptp'] = data.ptp()\n",
    "        c[name + '_std'] = data.std()\n",
    "        return c"
   ]
  },
  {
   "cell_type": "code",
   "execution_count": 4,
   "metadata": {},
   "outputs": [],
   "source": [
    "def get_dir(path):\n",
    "    file_names = os.listdir(path)\n",
    "    return file_names"
   ]
  },
  {
   "cell_type": "code",
   "execution_count": 5,
   "metadata": {},
   "outputs": [],
   "source": [
    "def get_abs(x):\n",
    "    return abs(x)"
   ]
  },
  {
   "cell_type": "code",
   "execution_count": 6,
   "metadata": {
    "scrolled": true
   },
   "outputs": [],
   "source": [
    "def handle_single_file(file_name,path):\n",
    "    split_points = [0.35,0.40,0.45,0.50,0.55,0.60,0.65,0.70,0.75,0.80,0.85,0.90,0.95]\n",
    "    local_path = path + file_name\n",
    "    df_temp = pd.read_csv(local_path)\n",
    "    lifemax = df_temp['部件工作时长'].max()\n",
    "    df_train = pd.DataFrame()\n",
    "    for split_point in split_points:\n",
    "        df_temp_split = df_temp[df_temp['部件工作时长']<=lifemax*split_point]\n",
    "        sigle_sample = {\n",
    "            'train_file_name':file_name+str(split_point),\n",
    "            '开关1_sum':df_temp_split['开关1信号'].sum(),\n",
    "            '开关2_sum':df_temp_split['开关2信号'].sum(),\n",
    "            '告警1_sum':df_temp_split['告警信号1'].sum(),\n",
    "            '设备类型':df_temp_split['设备类型'][0],\n",
    "            'life':lifemax-df_temp_split['部件工作时长'].max()# 剩余寿命\n",
    "        }\n",
    "        for column in ['部件工作时长', '累积量参数1', '累积量参数2','转速信号1','转速信号2',\n",
    "                       '压力信号1','压力信号2','温度信号','流量信号','电流信号']:\n",
    "            sigle_sample = stat(df_temp_split[column],sigle_sample,column)# 构造时序特征\n",
    "        df_single_train = pd.DataFrame(sigle_sample,index=[0])\n",
    "        df_train = pd.concat([df_train,df_single_train])\n",
    "    return df_train"
   ]
  },
  {
   "cell_type": "code",
   "execution_count": 7,
   "metadata": {},
   "outputs": [],
   "source": [
    "def merge_train_data(path):\n",
    "    file_names = get_dir(path)\n",
    "    df_all_train = pd.DataFrame()\n",
    "    for file_name in file_names:\n",
    "        df_train = handle_single_file(file_name,path)\n",
    "        df_all_train = pd.concat([df_all_train,df_train])\n",
    "    return df_all_train"
   ]
  },
  {
   "cell_type": "code",
   "execution_count": 8,
   "metadata": {},
   "outputs": [
    {
     "name": "stderr",
     "output_type": "stream",
     "text": [
      "C:\\ProgramData\\Anaconda3\\lib\\site-packages\\ipykernel_launcher.py:8: FutureWarning: Method .ptp is deprecated and will be removed in a future version. Use numpy.ptp instead.\n",
      "  \n"
     ]
    }
   ],
   "source": [
    "df_all_train = merge_train_data(path = path)"
   ]
  },
  {
   "cell_type": "code",
   "execution_count": 9,
   "metadata": {
    "scrolled": true
   },
   "outputs": [],
   "source": [
    "def judge_type(x):\n",
    "    if x == 'S100':\n",
    "        return 0\n",
    "    elif x == 'S26a':\n",
    "        return 1\n",
    "    elif x == 'S508':\n",
    "        return 2\n",
    "    elif x == 'S51d':\n",
    "        return 3\n",
    "    elif x == 'Saa3':\n",
    "        return 4"
   ]
  },
  {
   "cell_type": "code",
   "execution_count": 10,
   "metadata": {},
   "outputs": [],
   "source": [
    "df_all_train['设备类型'] = df_all_train['设备类型'].apply(judge_type)"
   ]
  },
  {
   "cell_type": "code",
   "execution_count": 11,
   "metadata": {},
   "outputs": [],
   "source": [
    "def load_model(model_name='gbm_S100'):\n",
    "    local_path = 'model/'+model_name+'.pkl'\n",
    "    local_gbm = joblib.load(local_path)\n",
    "    return local_gbm\n",
    "def dump_model(model,model_name='gbm_S100'):\n",
    "    local_path = 'model/'+model_name+'.pkl'\n",
    "    joblib.dump(model,local_path)"
   ]
  },
  {
   "cell_type": "code",
   "execution_count": 14,
   "metadata": {
    "scrolled": true
   },
   "outputs": [
    {
     "name": "stdout",
     "output_type": "stream",
     "text": [
      "Training until validation scores don't improve for 200 rounds.\n",
      "[200]\tvalid_0's l2: 1.10297e+07\tvalid_0's l1: 1334.6\n",
      "[400]\tvalid_0's l2: 7.77211e+06\tvalid_0's l1: 1198.04\n",
      "[600]\tvalid_0's l2: 6.40597e+06\tvalid_0's l1: 1103.78\n",
      "[800]\tvalid_0's l2: 5.707e+06\tvalid_0's l1: 1048.88\n",
      "[1000]\tvalid_0's l2: 5.30371e+06\tvalid_0's l1: 1007.45\n",
      "[1200]\tvalid_0's l2: 5.00347e+06\tvalid_0's l1: 974.69\n",
      "[1400]\tvalid_0's l2: 4.82283e+06\tvalid_0's l1: 943.923\n",
      "[1600]\tvalid_0's l2: 4.64359e+06\tvalid_0's l1: 916.434\n",
      "[1800]\tvalid_0's l2: 4.56755e+06\tvalid_0's l1: 887.196\n",
      "[2000]\tvalid_0's l2: 4.49241e+06\tvalid_0's l1: 861.013\n",
      "[2200]\tvalid_0's l2: 4.39182e+06\tvalid_0's l1: 840.151\n",
      "[2400]\tvalid_0's l2: 4.28561e+06\tvalid_0's l1: 816.695\n",
      "[2600]\tvalid_0's l2: 4.23188e+06\tvalid_0's l1: 794.792\n",
      "[2800]\tvalid_0's l2: 4.22359e+06\tvalid_0's l1: 776.097\n",
      "[3000]\tvalid_0's l2: 4.19939e+06\tvalid_0's l1: 761.07\n",
      "[3200]\tvalid_0's l2: 4.17898e+06\tvalid_0's l1: 748.378\n",
      "Early stopping, best iteration is:\n",
      "[3192]\tvalid_0's l2: 4.17294e+06\tvalid_0's l1: 748.683\n",
      "Training until validation scores don't improve for 200 rounds.\n",
      "[200]\tvalid_0's l2: 4.21105e+07\tvalid_0's l1: 1424.48\n",
      "[400]\tvalid_0's l2: 3.78371e+07\tvalid_0's l1: 1318.35\n",
      "[600]\tvalid_0's l2: 3.55739e+07\tvalid_0's l1: 1241.13\n",
      "[800]\tvalid_0's l2: 3.583e+07\tvalid_0's l1: 1188.75\n",
      "Early stopping, best iteration is:\n",
      "[696]\tvalid_0's l2: 3.48687e+07\tvalid_0's l1: 1212.84\n",
      "Training until validation scores don't improve for 200 rounds.\n",
      "[200]\tvalid_0's l2: 1.70142e+07\tvalid_0's l1: 1537.78\n",
      "Early stopping, best iteration is:\n",
      "[2]\tvalid_0's l2: 1.57477e+07\tvalid_0's l1: 2108.44\n",
      "Training until validation scores don't improve for 200 rounds.\n",
      "[200]\tvalid_0's l2: 1.39375e+07\tvalid_0's l1: 1410.96\n",
      "[400]\tvalid_0's l2: 7.98994e+06\tvalid_0's l1: 1219.58\n",
      "[600]\tvalid_0's l2: 6.50607e+06\tvalid_0's l1: 1137.76\n",
      "[800]\tvalid_0's l2: 5.77366e+06\tvalid_0's l1: 1065.13\n",
      "[1000]\tvalid_0's l2: 5.44549e+06\tvalid_0's l1: 1013.37\n",
      "[1200]\tvalid_0's l2: 5.08677e+06\tvalid_0's l1: 961.913\n",
      "[1400]\tvalid_0's l2: 4.93222e+06\tvalid_0's l1: 924.092\n",
      "[1600]\tvalid_0's l2: 4.73978e+06\tvalid_0's l1: 881.81\n",
      "[1800]\tvalid_0's l2: 4.59157e+06\tvalid_0's l1: 850.403\n",
      "[2000]\tvalid_0's l2: 4.52165e+06\tvalid_0's l1: 821.613\n",
      "[2200]\tvalid_0's l2: 4.43454e+06\tvalid_0's l1: 795.208\n",
      "[2400]\tvalid_0's l2: 4.3866e+06\tvalid_0's l1: 774.855\n",
      "[2600]\tvalid_0's l2: 4.31688e+06\tvalid_0's l1: 754.162\n",
      "[2800]\tvalid_0's l2: 4.28158e+06\tvalid_0's l1: 736.778\n",
      "[3000]\tvalid_0's l2: 4.22813e+06\tvalid_0's l1: 722.153\n",
      "[3200]\tvalid_0's l2: 4.19939e+06\tvalid_0's l1: 711.399\n",
      "[3400]\tvalid_0's l2: 4.17556e+06\tvalid_0's l1: 697.958\n",
      "[3600]\tvalid_0's l2: 4.16107e+06\tvalid_0's l1: 688.274\n",
      "[3800]\tvalid_0's l2: 4.12824e+06\tvalid_0's l1: 679.185\n",
      "[4000]\tvalid_0's l2: 4.12017e+06\tvalid_0's l1: 671.311\n",
      "[4200]\tvalid_0's l2: 4.1116e+06\tvalid_0's l1: 662.69\n",
      "[4400]\tvalid_0's l2: 4.10142e+06\tvalid_0's l1: 655.917\n",
      "[4600]\tvalid_0's l2: 4.09592e+06\tvalid_0's l1: 650.272\n",
      "[4800]\tvalid_0's l2: 4.08638e+06\tvalid_0's l1: 645.422\n",
      "[5000]\tvalid_0's l2: 4.06605e+06\tvalid_0's l1: 640.383\n",
      "[5200]\tvalid_0's l2: 4.05732e+06\tvalid_0's l1: 635.077\n",
      "[5400]\tvalid_0's l2: 4.06264e+06\tvalid_0's l1: 630.036\n",
      "Early stopping, best iteration is:\n",
      "[5247]\tvalid_0's l2: 4.05354e+06\tvalid_0's l1: 633.636\n",
      "Training until validation scores don't improve for 200 rounds.\n",
      "[200]\tvalid_0's l2: 9.44554e+06\tvalid_0's l1: 1327.25\n",
      "[400]\tvalid_0's l2: 5.41898e+06\tvalid_0's l1: 1132\n",
      "[600]\tvalid_0's l2: 4.28407e+06\tvalid_0's l1: 1057.78\n",
      "[800]\tvalid_0's l2: 3.86441e+06\tvalid_0's l1: 1015.89\n",
      "[1000]\tvalid_0's l2: 3.47262e+06\tvalid_0's l1: 960.527\n",
      "[1200]\tvalid_0's l2: 3.25714e+06\tvalid_0's l1: 921.352\n",
      "[1400]\tvalid_0's l2: 3.11445e+06\tvalid_0's l1: 881.062\n",
      "[1600]\tvalid_0's l2: 3.05135e+06\tvalid_0's l1: 851.821\n",
      "[1800]\tvalid_0's l2: 2.97835e+06\tvalid_0's l1: 825.732\n",
      "[2000]\tvalid_0's l2: 2.93254e+06\tvalid_0's l1: 809.425\n",
      "[2200]\tvalid_0's l2: 2.8528e+06\tvalid_0's l1: 790.436\n",
      "[2400]\tvalid_0's l2: 2.76964e+06\tvalid_0's l1: 771.689\n",
      "[2600]\tvalid_0's l2: 2.69175e+06\tvalid_0's l1: 755.23\n",
      "[2800]\tvalid_0's l2: 2.6524e+06\tvalid_0's l1: 741.07\n",
      "[3000]\tvalid_0's l2: 2.63066e+06\tvalid_0's l1: 725.974\n",
      "[3200]\tvalid_0's l2: 2.56043e+06\tvalid_0's l1: 711.419\n",
      "[3400]\tvalid_0's l2: 2.50723e+06\tvalid_0's l1: 699.746\n",
      "[3600]\tvalid_0's l2: 2.47116e+06\tvalid_0's l1: 686.925\n",
      "[3800]\tvalid_0's l2: 2.43876e+06\tvalid_0's l1: 673.515\n",
      "[4000]\tvalid_0's l2: 2.4159e+06\tvalid_0's l1: 663.126\n",
      "[4200]\tvalid_0's l2: 2.39777e+06\tvalid_0's l1: 656.331\n",
      "[4400]\tvalid_0's l2: 2.37251e+06\tvalid_0's l1: 645.744\n",
      "[4600]\tvalid_0's l2: 2.35083e+06\tvalid_0's l1: 636.616\n",
      "[4800]\tvalid_0's l2: 2.33773e+06\tvalid_0's l1: 631.705\n",
      "[5000]\tvalid_0's l2: 2.30825e+06\tvalid_0's l1: 624.819\n",
      "[5200]\tvalid_0's l2: 2.29365e+06\tvalid_0's l1: 617.861\n",
      "[5400]\tvalid_0's l2: 2.27168e+06\tvalid_0's l1: 613.317\n",
      "[5600]\tvalid_0's l2: 2.25624e+06\tvalid_0's l1: 608.991\n",
      "[5800]\tvalid_0's l2: 2.24768e+06\tvalid_0's l1: 604.493\n",
      "[6000]\tvalid_0's l2: 2.22613e+06\tvalid_0's l1: 599.287\n",
      "[6200]\tvalid_0's l2: 2.20903e+06\tvalid_0's l1: 594.861\n",
      "[6400]\tvalid_0's l2: 2.19947e+06\tvalid_0's l1: 591.673\n",
      "[6600]\tvalid_0's l2: 2.18711e+06\tvalid_0's l1: 587.632\n",
      "[6800]\tvalid_0's l2: 2.17135e+06\tvalid_0's l1: 583.885\n",
      "[7000]\tvalid_0's l2: 2.15715e+06\tvalid_0's l1: 581.269\n",
      "[7200]\tvalid_0's l2: 2.15732e+06\tvalid_0's l1: 578.719\n",
      "[7400]\tvalid_0's l2: 2.14689e+06\tvalid_0's l1: 576.148\n",
      "[7600]\tvalid_0's l2: 2.13875e+06\tvalid_0's l1: 573.266\n",
      "[7800]\tvalid_0's l2: 2.13246e+06\tvalid_0's l1: 571.506\n",
      "[8000]\tvalid_0's l2: 2.12983e+06\tvalid_0's l1: 568.985\n",
      "[8200]\tvalid_0's l2: 2.12164e+06\tvalid_0's l1: 566.79\n",
      "[8400]\tvalid_0's l2: 2.11654e+06\tvalid_0's l1: 565.167\n",
      "[8600]\tvalid_0's l2: 2.11635e+06\tvalid_0's l1: 564.007\n",
      "[8800]\tvalid_0's l2: 2.111e+06\tvalid_0's l1: 562.095\n",
      "[9000]\tvalid_0's l2: 2.10879e+06\tvalid_0's l1: 561.426\n",
      "Did not meet early stopping. Best iteration is:\n",
      "[8918]\tvalid_0's l2: 2.10738e+06\tvalid_0's l1: 562.043\n",
      "Training until validation scores don't improve for 200 rounds.\n",
      "[200]\tvalid_0's l2: 1.77324e+07\tvalid_0's l1: 1558.29\n",
      "[400]\tvalid_0's l2: 1.13768e+07\tvalid_0's l1: 1387.3\n",
      "[600]\tvalid_0's l2: 9.59138e+06\tvalid_0's l1: 1309.31\n",
      "[800]\tvalid_0's l2: 8.45702e+06\tvalid_0's l1: 1242.43\n",
      "[1000]\tvalid_0's l2: 7.84988e+06\tvalid_0's l1: 1176.71\n",
      "[1200]\tvalid_0's l2: 7.48923e+06\tvalid_0's l1: 1127.46\n",
      "[1400]\tvalid_0's l2: 7.20413e+06\tvalid_0's l1: 1086.11\n",
      "[1600]\tvalid_0's l2: 7.05837e+06\tvalid_0's l1: 1046.17\n",
      "[1800]\tvalid_0's l2: 6.84483e+06\tvalid_0's l1: 1017.59\n",
      "[2000]\tvalid_0's l2: 6.77073e+06\tvalid_0's l1: 990.222\n",
      "[2200]\tvalid_0's l2: 6.75649e+06\tvalid_0's l1: 970.072\n",
      "[2400]\tvalid_0's l2: 6.61627e+06\tvalid_0's l1: 948.964\n",
      "[2600]\tvalid_0's l2: 6.53763e+06\tvalid_0's l1: 923.19\n",
      "[2800]\tvalid_0's l2: 6.48823e+06\tvalid_0's l1: 905.037\n",
      "[3000]\tvalid_0's l2: 6.43481e+06\tvalid_0's l1: 889.389\n",
      "[3200]\tvalid_0's l2: 6.42594e+06\tvalid_0's l1: 875.514\n",
      "[3400]\tvalid_0's l2: 6.33656e+06\tvalid_0's l1: 864.681\n",
      "[3600]\tvalid_0's l2: 6.32391e+06\tvalid_0's l1: 850.281\n",
      "[3800]\tvalid_0's l2: 6.30959e+06\tvalid_0's l1: 841.618\n",
      "[4000]\tvalid_0's l2: 6.31169e+06\tvalid_0's l1: 832.407\n",
      "Early stopping, best iteration is:\n",
      "[3813]\tvalid_0's l2: 6.30411e+06\tvalid_0's l1: 840.748\n",
      "Training until validation scores don't improve for 200 rounds.\n",
      "[200]\tvalid_0's l2: 1.43661e+07\tvalid_0's l1: 1382.98\n",
      "Early stopping, best iteration is:\n",
      "[1]\tvalid_0's l2: 1.17842e+07\tvalid_0's l1: 2251.41\n",
      "Training until validation scores don't improve for 200 rounds.\n",
      "[200]\tvalid_0's l2: 2.52433e+07\tvalid_0's l1: 1741.94\n",
      "[400]\tvalid_0's l2: 1.89297e+07\tvalid_0's l1: 1542.43\n",
      "[600]\tvalid_0's l2: 1.61787e+07\tvalid_0's l1: 1437\n",
      "[800]\tvalid_0's l2: 1.41162e+07\tvalid_0's l1: 1333.57\n",
      "[1000]\tvalid_0's l2: 1.33931e+07\tvalid_0's l1: 1278.09\n",
      "[1200]\tvalid_0's l2: 1.29462e+07\tvalid_0's l1: 1222.84\n",
      "[1400]\tvalid_0's l2: 1.28686e+07\tvalid_0's l1: 1174.71\n",
      "[1600]\tvalid_0's l2: 1.25588e+07\tvalid_0's l1: 1131.41\n",
      "[1800]\tvalid_0's l2: 1.22588e+07\tvalid_0's l1: 1097.24\n",
      "[2000]\tvalid_0's l2: 1.21507e+07\tvalid_0's l1: 1067.5\n",
      "[2200]\tvalid_0's l2: 1.20875e+07\tvalid_0's l1: 1032.92\n",
      "[2400]\tvalid_0's l2: 1.20136e+07\tvalid_0's l1: 1014.97\n",
      "[2600]\tvalid_0's l2: 1.1905e+07\tvalid_0's l1: 997.363\n",
      "[2800]\tvalid_0's l2: 1.18272e+07\tvalid_0's l1: 979.124\n",
      "[3000]\tvalid_0's l2: 1.18064e+07\tvalid_0's l1: 962.673\n"
     ]
    },
    {
     "name": "stdout",
     "output_type": "stream",
     "text": [
      "[3200]\tvalid_0's l2: 1.17754e+07\tvalid_0's l1: 948.397\n",
      "[3400]\tvalid_0's l2: 1.17301e+07\tvalid_0's l1: 933.715\n",
      "Early stopping, best iteration is:\n",
      "[3396]\tvalid_0's l2: 1.17219e+07\tvalid_0's l1: 933.647\n",
      "Training until validation scores don't improve for 200 rounds.\n",
      "[200]\tvalid_0's l2: 1.568e+07\tvalid_0's l1: 1490.37\n",
      "[400]\tvalid_0's l2: 1.28189e+07\tvalid_0's l1: 1369.03\n",
      "[600]\tvalid_0's l2: 1.11307e+07\tvalid_0's l1: 1298.53\n",
      "[800]\tvalid_0's l2: 1.01669e+07\tvalid_0's l1: 1236.92\n",
      "[1000]\tvalid_0's l2: 9.72169e+06\tvalid_0's l1: 1190.86\n",
      "[1200]\tvalid_0's l2: 9.31388e+06\tvalid_0's l1: 1150.4\n",
      "[1400]\tvalid_0's l2: 9.03129e+06\tvalid_0's l1: 1121\n",
      "[1600]\tvalid_0's l2: 8.84261e+06\tvalid_0's l1: 1086.48\n",
      "[1800]\tvalid_0's l2: 8.56659e+06\tvalid_0's l1: 1056.21\n",
      "[2000]\tvalid_0's l2: 8.26487e+06\tvalid_0's l1: 1029.87\n",
      "[2200]\tvalid_0's l2: 8.11875e+06\tvalid_0's l1: 1004.71\n",
      "[2400]\tvalid_0's l2: 7.93759e+06\tvalid_0's l1: 981.857\n",
      "[2600]\tvalid_0's l2: 7.8355e+06\tvalid_0's l1: 966.195\n",
      "[2800]\tvalid_0's l2: 7.7642e+06\tvalid_0's l1: 953.569\n",
      "[3000]\tvalid_0's l2: 7.65762e+06\tvalid_0's l1: 941.755\n",
      "[3200]\tvalid_0's l2: 7.5775e+06\tvalid_0's l1: 926.199\n",
      "[3400]\tvalid_0's l2: 7.50895e+06\tvalid_0's l1: 914.825\n",
      "[3600]\tvalid_0's l2: 7.43468e+06\tvalid_0's l1: 903.891\n",
      "[3800]\tvalid_0's l2: 7.40927e+06\tvalid_0's l1: 894.322\n",
      "[4000]\tvalid_0's l2: 7.30553e+06\tvalid_0's l1: 884.175\n",
      "[4200]\tvalid_0's l2: 7.21445e+06\tvalid_0's l1: 876.742\n",
      "[4400]\tvalid_0's l2: 7.17769e+06\tvalid_0's l1: 868.584\n",
      "[4600]\tvalid_0's l2: 7.12884e+06\tvalid_0's l1: 857.301\n",
      "[4800]\tvalid_0's l2: 7.08358e+06\tvalid_0's l1: 852.009\n",
      "[5000]\tvalid_0's l2: 7.07067e+06\tvalid_0's l1: 846.683\n",
      "[5200]\tvalid_0's l2: 7.03712e+06\tvalid_0's l1: 839.341\n",
      "[5400]\tvalid_0's l2: 7.01173e+06\tvalid_0's l1: 834.45\n",
      "[5600]\tvalid_0's l2: 6.97785e+06\tvalid_0's l1: 830.178\n",
      "[5800]\tvalid_0's l2: 6.94584e+06\tvalid_0's l1: 824.707\n",
      "[6000]\tvalid_0's l2: 6.91069e+06\tvalid_0's l1: 821.6\n",
      "[6200]\tvalid_0's l2: 6.84757e+06\tvalid_0's l1: 818.057\n",
      "[6400]\tvalid_0's l2: 6.82624e+06\tvalid_0's l1: 814.541\n",
      "[6600]\tvalid_0's l2: 6.79322e+06\tvalid_0's l1: 811.03\n",
      "[6800]\tvalid_0's l2: 6.77452e+06\tvalid_0's l1: 808.122\n",
      "[7000]\tvalid_0's l2: 6.77649e+06\tvalid_0's l1: 805.557\n",
      "Early stopping, best iteration is:\n",
      "[6808]\tvalid_0's l2: 6.77241e+06\tvalid_0's l1: 807.914\n",
      "Training until validation scores don't improve for 200 rounds.\n",
      "[200]\tvalid_0's l2: 1.70571e+07\tvalid_0's l1: 1398.09\n",
      "[400]\tvalid_0's l2: 1.32962e+07\tvalid_0's l1: 1303.08\n",
      "[600]\tvalid_0's l2: 1.14731e+07\tvalid_0's l1: 1245.72\n",
      "[800]\tvalid_0's l2: 1.00379e+07\tvalid_0's l1: 1193.34\n",
      "[1000]\tvalid_0's l2: 8.89797e+06\tvalid_0's l1: 1135.38\n",
      "[1200]\tvalid_0's l2: 8.19211e+06\tvalid_0's l1: 1094.23\n",
      "[1400]\tvalid_0's l2: 7.62341e+06\tvalid_0's l1: 1036.07\n",
      "[1600]\tvalid_0's l2: 7.3001e+06\tvalid_0's l1: 993.816\n",
      "[1800]\tvalid_0's l2: 7.02769e+06\tvalid_0's l1: 954.332\n",
      "[2000]\tvalid_0's l2: 6.80338e+06\tvalid_0's l1: 922.728\n",
      "[2200]\tvalid_0's l2: 6.60158e+06\tvalid_0's l1: 893.163\n",
      "[2400]\tvalid_0's l2: 6.49987e+06\tvalid_0's l1: 867.552\n",
      "[2600]\tvalid_0's l2: 6.32466e+06\tvalid_0's l1: 847.599\n",
      "[2800]\tvalid_0's l2: 6.16391e+06\tvalid_0's l1: 829.568\n",
      "[3000]\tvalid_0's l2: 6.07101e+06\tvalid_0's l1: 808.66\n",
      "[3200]\tvalid_0's l2: 6.02019e+06\tvalid_0's l1: 792.812\n",
      "[3400]\tvalid_0's l2: 5.95052e+06\tvalid_0's l1: 781.11\n",
      "[3600]\tvalid_0's l2: 5.92425e+06\tvalid_0's l1: 769.655\n",
      "[3800]\tvalid_0's l2: 5.9052e+06\tvalid_0's l1: 760.559\n",
      "[4000]\tvalid_0's l2: 5.84326e+06\tvalid_0's l1: 750.282\n",
      "[4200]\tvalid_0's l2: 5.81654e+06\tvalid_0's l1: 743.686\n",
      "[4400]\tvalid_0's l2: 5.76697e+06\tvalid_0's l1: 737.879\n",
      "[4600]\tvalid_0's l2: 5.75837e+06\tvalid_0's l1: 730.357\n",
      "[4800]\tvalid_0's l2: 5.71319e+06\tvalid_0's l1: 723.194\n",
      "[5000]\tvalid_0's l2: 5.68211e+06\tvalid_0's l1: 715.93\n",
      "[5200]\tvalid_0's l2: 5.64396e+06\tvalid_0's l1: 709.764\n",
      "[5400]\tvalid_0's l2: 5.6244e+06\tvalid_0's l1: 703.81\n",
      "[5600]\tvalid_0's l2: 5.60861e+06\tvalid_0's l1: 697.251\n",
      "[5800]\tvalid_0's l2: 5.57705e+06\tvalid_0's l1: 691.349\n",
      "[6000]\tvalid_0's l2: 5.54633e+06\tvalid_0's l1: 684.04\n",
      "[6200]\tvalid_0's l2: 5.52602e+06\tvalid_0's l1: 678.875\n",
      "[6400]\tvalid_0's l2: 5.51214e+06\tvalid_0's l1: 674.168\n",
      "[6600]\tvalid_0's l2: 5.4916e+06\tvalid_0's l1: 669.299\n",
      "[6800]\tvalid_0's l2: 5.47607e+06\tvalid_0's l1: 665.498\n",
      "[7000]\tvalid_0's l2: 5.46082e+06\tvalid_0's l1: 662.453\n",
      "[7200]\tvalid_0's l2: 5.44493e+06\tvalid_0's l1: 657.595\n",
      "[7400]\tvalid_0's l2: 5.42903e+06\tvalid_0's l1: 654.057\n",
      "[7600]\tvalid_0's l2: 5.41129e+06\tvalid_0's l1: 649.828\n",
      "[7800]\tvalid_0's l2: 5.39247e+06\tvalid_0's l1: 646.94\n",
      "[8000]\tvalid_0's l2: 5.38671e+06\tvalid_0's l1: 643.552\n",
      "[8200]\tvalid_0's l2: 5.37494e+06\tvalid_0's l1: 641.347\n",
      "[8400]\tvalid_0's l2: 5.35293e+06\tvalid_0's l1: 638.717\n",
      "[8600]\tvalid_0's l2: 5.35548e+06\tvalid_0's l1: 637.177\n",
      "Early stopping, best iteration is:\n",
      "[8409]\tvalid_0's l2: 5.35189e+06\tvalid_0's l1: 638.631\n"
     ]
    }
   ],
   "source": [
    "floder = KFold(n_splits=10,random_state=27,shuffle=False)\n",
    "X = df_all_train.drop(['life','train_file_name'],axis=1)\n",
    "y = df_all_train['life']\n",
    "X_train,X_valid,y_train,y_valid = train_test_split(X,y,test_size=1/10,random_state =44)\n",
    "X = pd.concat([X_train,X_valid])\n",
    "y = pd.concat([y_train,y_valid])# 这个步骤是因为我电脑不知道怎么了，用不了StratifiedKFold\n",
    "for index,(train_index,test_index) in enumerate(floder.split(X, y)):\n",
    "    X_train,X_valid,y_train,y_valid = X.iloc[train_index],X.iloc[test_index],y.iloc[train_index],y.iloc[test_index]\n",
    "    gbm = lgb.LGBMRegressor(objective='regression',\n",
    "                            num_leaves=250,\n",
    "                            max_depth=3,\n",
    "                            learning_rate=0.1,\n",
    "                            verbose=-1,\n",
    "                            n_estimators=9000,\n",
    "                            boosting_type='gbdt')\n",
    "    gbm.fit(X_train,y_train,\n",
    "            eval_set=[(X_valid,y_valid)],\n",
    "            eval_metric='l1',\n",
    "            early_stopping_rounds=200,verbose=200)\n",
    "    dump_model(gbm,str(index))"
   ]
  },
  {
   "cell_type": "code",
   "execution_count": 35,
   "metadata": {},
   "outputs": [],
   "source": [
    "def kfold_predict(X):\n",
    "    df_pred = pd.DataFrame()\n",
    "    indexes = [0,3,4,5,7,8,9]# 没有到的是因为模型没有收敛好\n",
    "    for index in indexes:\n",
    "        gbm = load_model(str(index))\n",
    "        df_pred[str(index)] = gbm.predict(X)\n",
    "    return df_pred"
   ]
  },
  {
   "cell_type": "code",
   "execution_count": 16,
   "metadata": {},
   "outputs": [],
   "source": [
    "def compute_loss(target, predict):\n",
    "    temp = np.square(np.log(abs(target + 1)) - np.log(abs(predict + 1)))\n",
    "    res = np.sqrt(np.sum(temp) / len(temp))\n",
    "    return res"
   ]
  },
  {
   "cell_type": "code",
   "execution_count": 102,
   "metadata": {},
   "outputs": [
    {
     "data": {
      "text/plain": [
       "1.1864295564504823"
      ]
     },
     "execution_count": 102,
     "metadata": {},
     "output_type": "execute_result"
    }
   ],
   "source": [
    "compute_loss(gbm.predict(X_valid),y_valid)"
   ]
  },
  {
   "cell_type": "code",
   "execution_count": 197,
   "metadata": {
    "scrolled": true
   },
   "outputs": [],
   "source": [
    "df_temp = pd.DataFrame(columns=['pred','real'])\n",
    "df_temp.pred = gbm.predict(X_valid)\n",
    "df_temp.pred = df_temp.pred.round(decimals=2)\n",
    "df_temp.real = np.array(y_valid)"
   ]
  },
  {
   "cell_type": "code",
   "execution_count": 195,
   "metadata": {
    "scrolled": true
   },
   "outputs": [],
   "source": [
    "df_temp.pred[df_temp.pred<0] = 200"
   ]
  },
  {
   "cell_type": "code",
   "execution_count": 198,
   "metadata": {},
   "outputs": [
    {
     "data": {
      "text/plain": [
       "1.2245317392429114"
      ]
     },
     "execution_count": 198,
     "metadata": {},
     "output_type": "execute_result"
    }
   ],
   "source": [
    "compute_loss(df_temp.pred,df_temp.real)"
   ]
  },
  {
   "cell_type": "code",
   "execution_count": 17,
   "metadata": {},
   "outputs": [],
   "source": [
    "path = '工程机械寿命预测选手/工程机械寿命预测选手/test1/'"
   ]
  },
  {
   "cell_type": "code",
   "execution_count": 78,
   "metadata": {},
   "outputs": [],
   "source": [
    "def handle_single_test_file(file_name,path):\n",
    "    split_points = [0.65,0.75,0.85,0.95,1.0]\n",
    "    local_path = path + file_name\n",
    "    df_temp = pd.read_csv(local_path)\n",
    "    lifemax = df_temp['部件工作时长'].max()\n",
    "    df_train = pd.DataFrame()\n",
    "    for split_point in split_points:\n",
    "        df_temp_split = df_temp[df_temp['部件工作时长']<=lifemax*split_point]\n",
    "        sigle_sample = {\n",
    "            'test_file_name':file_name,\n",
    "            '开关1_sum':df_temp_split['开关1信号'].sum(),\n",
    "            '开关2_sum':df_temp_split['开关2信号'].sum(),\n",
    "            '告警1_sum':df_temp_split['告警信号1'].sum(),\n",
    "            '设备类型':df_temp_split['设备类型'][0],\n",
    "        }\n",
    "        for column in ['部件工作时长', '累积量参数1', '累积量参数2','转速信号1','转速信号2',\n",
    "                       '压力信号1','压力信号2','温度信号','流量信号','电流信号']:\n",
    "            sigle_sample = stat(df_temp_split[column],sigle_sample,column)# 构造时序特征\n",
    "        df_single_train = pd.DataFrame(sigle_sample,index=[0])\n",
    "        df_train = pd.concat([df_train,df_single_train])\n",
    "    return df_train"
   ]
  },
  {
   "cell_type": "code",
   "execution_count": 79,
   "metadata": {},
   "outputs": [],
   "source": [
    "def merge_test_data(path):\n",
    "    file_names = get_dir(path)\n",
    "    df_all_train = pd.DataFrame()\n",
    "    for file_name in file_names:\n",
    "        df_train = handle_single_test_file(file_name,path)\n",
    "        df_all_train = pd.concat([df_all_train,df_train])\n",
    "    return df_all_train"
   ]
  },
  {
   "cell_type": "code",
   "execution_count": 80,
   "metadata": {},
   "outputs": [
    {
     "name": "stderr",
     "output_type": "stream",
     "text": [
      "C:\\ProgramData\\Anaconda3\\lib\\site-packages\\ipykernel_launcher.py:8: FutureWarning: Method .ptp is deprecated and will be removed in a future version. Use numpy.ptp instead.\n",
      "  \n"
     ]
    }
   ],
   "source": [
    "df_all_test = merge_test_data(path)"
   ]
  },
  {
   "cell_type": "code",
   "execution_count": 81,
   "metadata": {
    "scrolled": true
   },
   "outputs": [],
   "source": [
    "df_all_test['设备类型'] = df_all_test['设备类型'].apply(judge_type)"
   ]
  },
  {
   "cell_type": "code",
   "execution_count": 82,
   "metadata": {
    "scrolled": true
   },
   "outputs": [],
   "source": [
    "df_pred = kfold_predict(df_all_test.drop(['test_file_name'],axis=1))"
   ]
  },
  {
   "cell_type": "code",
   "execution_count": 83,
   "metadata": {
    "scrolled": true
   },
   "outputs": [],
   "source": [
    "df_pred['test_file_name'] = np.array(df_all_test['test_file_name'])\n",
    "df_pred['部件工作时长_max'] = np.array(df_all_test['部件工作时长_max'])"
   ]
  },
  {
   "cell_type": "code",
   "execution_count": 84,
   "metadata": {},
   "outputs": [],
   "source": [
    "def voted(a, b, c, d, e, f, g, h):\n",
    "    lst = pd.Series([a, b, c, d, e, f, g])\n",
    "    lst += h\n",
    "    return lst.median()"
   ]
  },
  {
   "cell_type": "code",
   "execution_count": 85,
   "metadata": {
    "scrolled": true
   },
   "outputs": [],
   "source": [
    "df_pred['total_life'] = df_pred.apply(lambda row:voted(row['0'],row['3'],row['4'],row['5'],row['7'],row['8'],row['9'],row['部件工作时长_max']),axis=1)"
   ]
  },
  {
   "cell_type": "code",
   "execution_count": 98,
   "metadata": {
    "scrolled": true
   },
   "outputs": [],
   "source": [
    "def predict(df_test):\n",
    "    file_names = get_dir(path)\n",
    "    df_test = df_test.set_index(['test_file_name'])\n",
    "    df_result = pd.DataFrame(columns=['test_file_name','life'])\n",
    "    for file_name in file_names:\n",
    "        temp = (df_test.loc[file_name].loc[:,'total_life'] - df_test.loc[file_name].loc[:,'部件工作时长_max'].max())\n",
    "        temp = list(temp)\n",
    "        temp.reverse()\n",
    "        for y_pred in temp:\n",
    "            if y_pred>0:\n",
    "                life = y_pred\n",
    "                break\n",
    "        pred_single = {\n",
    "            'test_file_name':[file_name],\n",
    "            'life':[life]\n",
    "        }\n",
    "        df_result = pd.concat([df_result,pd.DataFrame(pred_single)])\n",
    "    return df_result"
   ]
  },
  {
   "cell_type": "code",
   "execution_count": 130,
   "metadata": {
    "scrolled": true
   },
   "outputs": [],
   "source": [
    "df_result = predict(df_pred)"
   ]
  },
  {
   "cell_type": "code",
   "execution_count": 131,
   "metadata": {
    "scrolled": true
   },
   "outputs": [
    {
     "data": {
      "text/html": [
       "<div>\n",
       "<style scoped>\n",
       "    .dataframe tbody tr th:only-of-type {\n",
       "        vertical-align: middle;\n",
       "    }\n",
       "\n",
       "    .dataframe tbody tr th {\n",
       "        vertical-align: top;\n",
       "    }\n",
       "\n",
       "    .dataframe thead th {\n",
       "        text-align: right;\n",
       "    }\n",
       "</style>\n",
       "<table border=\"1\" class=\"dataframe\">\n",
       "  <thead>\n",
       "    <tr style=\"text-align: right;\">\n",
       "      <th></th>\n",
       "      <th>test_file_name</th>\n",
       "      <th>life</th>\n",
       "    </tr>\n",
       "  </thead>\n",
       "  <tbody>\n",
       "    <tr>\n",
       "      <th>0</th>\n",
       "      <td>002ece6be8b41a5613aa.csv</td>\n",
       "      <td>694.711080</td>\n",
       "    </tr>\n",
       "    <tr>\n",
       "      <th>0</th>\n",
       "      <td>004a2ad4b735329a3e23.csv</td>\n",
       "      <td>502.858393</td>\n",
       "    </tr>\n",
       "    <tr>\n",
       "      <th>0</th>\n",
       "      <td>004c675bb05d447aa94b.csv</td>\n",
       "      <td>4768.875103</td>\n",
       "    </tr>\n",
       "    <tr>\n",
       "      <th>0</th>\n",
       "      <td>0120bc1afed1186f5b79.csv</td>\n",
       "      <td>2272.544211</td>\n",
       "    </tr>\n",
       "    <tr>\n",
       "      <th>0</th>\n",
       "      <td>013898c56ddfd3f53350.csv</td>\n",
       "      <td>1766.960524</td>\n",
       "    </tr>\n",
       "    <tr>\n",
       "      <th>0</th>\n",
       "      <td>01dda06b5ab0a3de630d.csv</td>\n",
       "      <td>1733.618138</td>\n",
       "    </tr>\n",
       "    <tr>\n",
       "      <th>0</th>\n",
       "      <td>01e7ba5662e5d918871f.csv</td>\n",
       "      <td>702.023790</td>\n",
       "    </tr>\n",
       "    <tr>\n",
       "      <th>0</th>\n",
       "      <td>01fe37e0300faca21f25.csv</td>\n",
       "      <td>1905.564130</td>\n",
       "    </tr>\n",
       "    <tr>\n",
       "      <th>0</th>\n",
       "      <td>02cf0f73d0eca3a1de31.csv</td>\n",
       "      <td>2383.820762</td>\n",
       "    </tr>\n",
       "    <tr>\n",
       "      <th>0</th>\n",
       "      <td>02fc6df7ff590a82d546.csv</td>\n",
       "      <td>422.598775</td>\n",
       "    </tr>\n",
       "    <tr>\n",
       "      <th>0</th>\n",
       "      <td>0337de7d2c1fcf58ae0f.csv</td>\n",
       "      <td>1280.975185</td>\n",
       "    </tr>\n",
       "    <tr>\n",
       "      <th>0</th>\n",
       "      <td>03c885d905a0d899fd95.csv</td>\n",
       "      <td>754.548800</td>\n",
       "    </tr>\n",
       "    <tr>\n",
       "      <th>0</th>\n",
       "      <td>03cc8d9a5cb2549a6cbc.csv</td>\n",
       "      <td>629.512113</td>\n",
       "    </tr>\n",
       "    <tr>\n",
       "      <th>0</th>\n",
       "      <td>03ec8217bdd0739b5c2c.csv</td>\n",
       "      <td>2691.949654</td>\n",
       "    </tr>\n",
       "    <tr>\n",
       "      <th>0</th>\n",
       "      <td>0422b1095cc935bd0d00.csv</td>\n",
       "      <td>2663.537459</td>\n",
       "    </tr>\n",
       "    <tr>\n",
       "      <th>0</th>\n",
       "      <td>0426217c87787caafefc.csv</td>\n",
       "      <td>598.350131</td>\n",
       "    </tr>\n",
       "    <tr>\n",
       "      <th>0</th>\n",
       "      <td>04805287ab6ca2162c6f.csv</td>\n",
       "      <td>1503.903282</td>\n",
       "    </tr>\n",
       "    <tr>\n",
       "      <th>0</th>\n",
       "      <td>04b178bb733105fd25ab.csv</td>\n",
       "      <td>1519.547655</td>\n",
       "    </tr>\n",
       "    <tr>\n",
       "      <th>0</th>\n",
       "      <td>04df35c6a43e5c732115.csv</td>\n",
       "      <td>1551.135756</td>\n",
       "    </tr>\n",
       "    <tr>\n",
       "      <th>0</th>\n",
       "      <td>04f022877a01a9fe93f1.csv</td>\n",
       "      <td>1378.893214</td>\n",
       "    </tr>\n",
       "    <tr>\n",
       "      <th>0</th>\n",
       "      <td>05432877894ab7e05529.csv</td>\n",
       "      <td>1196.924224</td>\n",
       "    </tr>\n",
       "    <tr>\n",
       "      <th>0</th>\n",
       "      <td>05528d744e3542f97150.csv</td>\n",
       "      <td>2583.357371</td>\n",
       "    </tr>\n",
       "    <tr>\n",
       "      <th>0</th>\n",
       "      <td>05bff8e31e50ff07faa0.csv</td>\n",
       "      <td>858.668583</td>\n",
       "    </tr>\n",
       "    <tr>\n",
       "      <th>0</th>\n",
       "      <td>06031d75ccb6415775af.csv</td>\n",
       "      <td>1243.792027</td>\n",
       "    </tr>\n",
       "    <tr>\n",
       "      <th>0</th>\n",
       "      <td>069253da2e9e10d22eb4.csv</td>\n",
       "      <td>1041.916744</td>\n",
       "    </tr>\n",
       "    <tr>\n",
       "      <th>0</th>\n",
       "      <td>072916cb3e244a46d6ca.csv</td>\n",
       "      <td>952.055802</td>\n",
       "    </tr>\n",
       "    <tr>\n",
       "      <th>0</th>\n",
       "      <td>0768a7941e3247e8cc6e.csv</td>\n",
       "      <td>207.230182</td>\n",
       "    </tr>\n",
       "    <tr>\n",
       "      <th>0</th>\n",
       "      <td>079fa4edd278644aad24.csv</td>\n",
       "      <td>9991.064050</td>\n",
       "    </tr>\n",
       "    <tr>\n",
       "      <th>0</th>\n",
       "      <td>08fa496e63f8e9acc409.csv</td>\n",
       "      <td>1150.982022</td>\n",
       "    </tr>\n",
       "    <tr>\n",
       "      <th>0</th>\n",
       "      <td>0907ef0c2cc934c85d99.csv</td>\n",
       "      <td>287.668064</td>\n",
       "    </tr>\n",
       "    <tr>\n",
       "      <th>...</th>\n",
       "      <td>...</td>\n",
       "      <td>...</td>\n",
       "    </tr>\n",
       "    <tr>\n",
       "      <th>0</th>\n",
       "      <td>f970ab919dbe381b2857.csv</td>\n",
       "      <td>2402.751299</td>\n",
       "    </tr>\n",
       "    <tr>\n",
       "      <th>0</th>\n",
       "      <td>f9959836c4aecb6d37fd.csv</td>\n",
       "      <td>1316.553649</td>\n",
       "    </tr>\n",
       "    <tr>\n",
       "      <th>0</th>\n",
       "      <td>fa0a3959758044ea713a.csv</td>\n",
       "      <td>1307.994070</td>\n",
       "    </tr>\n",
       "    <tr>\n",
       "      <th>0</th>\n",
       "      <td>fa42fd5cd70e5d1fda96.csv</td>\n",
       "      <td>1481.353563</td>\n",
       "    </tr>\n",
       "    <tr>\n",
       "      <th>0</th>\n",
       "      <td>fa637185dac42ad92e52.csv</td>\n",
       "      <td>616.566296</td>\n",
       "    </tr>\n",
       "    <tr>\n",
       "      <th>0</th>\n",
       "      <td>fa714fac4c3f64a1223f.csv</td>\n",
       "      <td>2353.293955</td>\n",
       "    </tr>\n",
       "    <tr>\n",
       "      <th>0</th>\n",
       "      <td>fa8aa4e78ff9976813d6.csv</td>\n",
       "      <td>641.392073</td>\n",
       "    </tr>\n",
       "    <tr>\n",
       "      <th>0</th>\n",
       "      <td>fa91cea10e01b4928b6d.csv</td>\n",
       "      <td>1836.262444</td>\n",
       "    </tr>\n",
       "    <tr>\n",
       "      <th>0</th>\n",
       "      <td>fab4ac55c5aef140e825.csv</td>\n",
       "      <td>681.336298</td>\n",
       "    </tr>\n",
       "    <tr>\n",
       "      <th>0</th>\n",
       "      <td>fb10f4558b7d2fd1a212.csv</td>\n",
       "      <td>1173.253436</td>\n",
       "    </tr>\n",
       "    <tr>\n",
       "      <th>0</th>\n",
       "      <td>fb328bb7a6d105997f88.csv</td>\n",
       "      <td>1238.230490</td>\n",
       "    </tr>\n",
       "    <tr>\n",
       "      <th>0</th>\n",
       "      <td>fb4c594700593687e160.csv</td>\n",
       "      <td>2534.005653</td>\n",
       "    </tr>\n",
       "    <tr>\n",
       "      <th>0</th>\n",
       "      <td>fba6791477a40af1541c.csv</td>\n",
       "      <td>1141.349725</td>\n",
       "    </tr>\n",
       "    <tr>\n",
       "      <th>0</th>\n",
       "      <td>fbd5a9a693d5d4dc0bb1.csv</td>\n",
       "      <td>257.728146</td>\n",
       "    </tr>\n",
       "    <tr>\n",
       "      <th>0</th>\n",
       "      <td>fbe62e615df277b3eda0.csv</td>\n",
       "      <td>1335.648010</td>\n",
       "    </tr>\n",
       "    <tr>\n",
       "      <th>0</th>\n",
       "      <td>fc31ec603291154b51bc.csv</td>\n",
       "      <td>745.516703</td>\n",
       "    </tr>\n",
       "    <tr>\n",
       "      <th>0</th>\n",
       "      <td>fcc71701234c2a643c15.csv</td>\n",
       "      <td>842.655250</td>\n",
       "    </tr>\n",
       "    <tr>\n",
       "      <th>0</th>\n",
       "      <td>fd1f3edebeebd88b292a.csv</td>\n",
       "      <td>1467.024497</td>\n",
       "    </tr>\n",
       "    <tr>\n",
       "      <th>0</th>\n",
       "      <td>fd9007b9b98120bb8e3e.csv</td>\n",
       "      <td>2082.400035</td>\n",
       "    </tr>\n",
       "    <tr>\n",
       "      <th>0</th>\n",
       "      <td>fddbe0925ebbe517afe7.csv</td>\n",
       "      <td>47145.678473</td>\n",
       "    </tr>\n",
       "    <tr>\n",
       "      <th>0</th>\n",
       "      <td>fe3434192124e7b6854e.csv</td>\n",
       "      <td>2801.246880</td>\n",
       "    </tr>\n",
       "    <tr>\n",
       "      <th>0</th>\n",
       "      <td>fe3afa81fa753973a2f5.csv</td>\n",
       "      <td>1440.677324</td>\n",
       "    </tr>\n",
       "    <tr>\n",
       "      <th>0</th>\n",
       "      <td>fe641eb6d5d23e6ffb2f.csv</td>\n",
       "      <td>2043.326575</td>\n",
       "    </tr>\n",
       "    <tr>\n",
       "      <th>0</th>\n",
       "      <td>fecdd7b3102eb02d513a.csv</td>\n",
       "      <td>704.663342</td>\n",
       "    </tr>\n",
       "    <tr>\n",
       "      <th>0</th>\n",
       "      <td>ff3527410aa4836cd207.csv</td>\n",
       "      <td>1483.300341</td>\n",
       "    </tr>\n",
       "    <tr>\n",
       "      <th>0</th>\n",
       "      <td>ff50182318cfacec4a85.csv</td>\n",
       "      <td>672.249569</td>\n",
       "    </tr>\n",
       "    <tr>\n",
       "      <th>0</th>\n",
       "      <td>ff94c8e662eccf65a488.csv</td>\n",
       "      <td>2089.603485</td>\n",
       "    </tr>\n",
       "    <tr>\n",
       "      <th>0</th>\n",
       "      <td>ffb78f9b18e44f78bd49.csv</td>\n",
       "      <td>2404.344695</td>\n",
       "    </tr>\n",
       "    <tr>\n",
       "      <th>0</th>\n",
       "      <td>ffbefac0e4396bacb898.csv</td>\n",
       "      <td>565.878746</td>\n",
       "    </tr>\n",
       "    <tr>\n",
       "      <th>0</th>\n",
       "      <td>ffe279f5242310018444.csv</td>\n",
       "      <td>667.287748</td>\n",
       "    </tr>\n",
       "  </tbody>\n",
       "</table>\n",
       "<p>889 rows × 2 columns</p>\n",
       "</div>"
      ],
      "text/plain": [
       "              test_file_name          life\n",
       "0   002ece6be8b41a5613aa.csv    694.711080\n",
       "0   004a2ad4b735329a3e23.csv    502.858393\n",
       "0   004c675bb05d447aa94b.csv   4768.875103\n",
       "0   0120bc1afed1186f5b79.csv   2272.544211\n",
       "0   013898c56ddfd3f53350.csv   1766.960524\n",
       "0   01dda06b5ab0a3de630d.csv   1733.618138\n",
       "0   01e7ba5662e5d918871f.csv    702.023790\n",
       "0   01fe37e0300faca21f25.csv   1905.564130\n",
       "0   02cf0f73d0eca3a1de31.csv   2383.820762\n",
       "0   02fc6df7ff590a82d546.csv    422.598775\n",
       "0   0337de7d2c1fcf58ae0f.csv   1280.975185\n",
       "0   03c885d905a0d899fd95.csv    754.548800\n",
       "0   03cc8d9a5cb2549a6cbc.csv    629.512113\n",
       "0   03ec8217bdd0739b5c2c.csv   2691.949654\n",
       "0   0422b1095cc935bd0d00.csv   2663.537459\n",
       "0   0426217c87787caafefc.csv    598.350131\n",
       "0   04805287ab6ca2162c6f.csv   1503.903282\n",
       "0   04b178bb733105fd25ab.csv   1519.547655\n",
       "0   04df35c6a43e5c732115.csv   1551.135756\n",
       "0   04f022877a01a9fe93f1.csv   1378.893214\n",
       "0   05432877894ab7e05529.csv   1196.924224\n",
       "0   05528d744e3542f97150.csv   2583.357371\n",
       "0   05bff8e31e50ff07faa0.csv    858.668583\n",
       "0   06031d75ccb6415775af.csv   1243.792027\n",
       "0   069253da2e9e10d22eb4.csv   1041.916744\n",
       "0   072916cb3e244a46d6ca.csv    952.055802\n",
       "0   0768a7941e3247e8cc6e.csv    207.230182\n",
       "0   079fa4edd278644aad24.csv   9991.064050\n",
       "0   08fa496e63f8e9acc409.csv   1150.982022\n",
       "0   0907ef0c2cc934c85d99.csv    287.668064\n",
       "..                       ...           ...\n",
       "0   f970ab919dbe381b2857.csv   2402.751299\n",
       "0   f9959836c4aecb6d37fd.csv   1316.553649\n",
       "0   fa0a3959758044ea713a.csv   1307.994070\n",
       "0   fa42fd5cd70e5d1fda96.csv   1481.353563\n",
       "0   fa637185dac42ad92e52.csv    616.566296\n",
       "0   fa714fac4c3f64a1223f.csv   2353.293955\n",
       "0   fa8aa4e78ff9976813d6.csv    641.392073\n",
       "0   fa91cea10e01b4928b6d.csv   1836.262444\n",
       "0   fab4ac55c5aef140e825.csv    681.336298\n",
       "0   fb10f4558b7d2fd1a212.csv   1173.253436\n",
       "0   fb328bb7a6d105997f88.csv   1238.230490\n",
       "0   fb4c594700593687e160.csv   2534.005653\n",
       "0   fba6791477a40af1541c.csv   1141.349725\n",
       "0   fbd5a9a693d5d4dc0bb1.csv    257.728146\n",
       "0   fbe62e615df277b3eda0.csv   1335.648010\n",
       "0   fc31ec603291154b51bc.csv    745.516703\n",
       "0   fcc71701234c2a643c15.csv    842.655250\n",
       "0   fd1f3edebeebd88b292a.csv   1467.024497\n",
       "0   fd9007b9b98120bb8e3e.csv   2082.400035\n",
       "0   fddbe0925ebbe517afe7.csv  47145.678473\n",
       "0   fe3434192124e7b6854e.csv   2801.246880\n",
       "0   fe3afa81fa753973a2f5.csv   1440.677324\n",
       "0   fe641eb6d5d23e6ffb2f.csv   2043.326575\n",
       "0   fecdd7b3102eb02d513a.csv    704.663342\n",
       "0   ff3527410aa4836cd207.csv   1483.300341\n",
       "0   ff50182318cfacec4a85.csv    672.249569\n",
       "0   ff94c8e662eccf65a488.csv   2089.603485\n",
       "0   ffb78f9b18e44f78bd49.csv   2404.344695\n",
       "0   ffbefac0e4396bacb898.csv    565.878746\n",
       "0   ffe279f5242310018444.csv    667.287748\n",
       "\n",
       "[889 rows x 2 columns]"
      ]
     },
     "execution_count": 131,
     "metadata": {},
     "output_type": "execute_result"
    }
   ],
   "source": [
    "df_result"
   ]
  },
  {
   "cell_type": "code",
   "execution_count": 132,
   "metadata": {
    "scrolled": true
   },
   "outputs": [
    {
     "data": {
      "text/plain": [
       "0    13a61495355fe904e7c9.csv\n",
       "0    1ff6a09806b4c92d55c5.csv\n",
       "0    5478d69a236045cb5f55.csv\n",
       "0    639252e21fcdb0d1dfa1.csv\n",
       "0    639d1fecbe425742185c.csv\n",
       "0    82ccd24fcadd4f2ee2c8.csv\n",
       "0    8accdf1f4798efb4cd5c.csv\n",
       "0    acaf787e2d91ef2e1941.csv\n",
       "0    e29d795c67c8c0daac72.csv\n",
       "0    fddbe0925ebbe517afe7.csv\n",
       "Name: test_file_name, dtype: object"
      ]
     },
     "execution_count": 132,
     "metadata": {},
     "output_type": "execute_result"
    }
   ],
   "source": [
    "df_result.test_file_name[df_result.life>15000] #= 15000\n",
    "# df_result = df_result.replace(np.nan,200)"
   ]
  },
  {
   "cell_type": "code",
   "execution_count": 133,
   "metadata": {},
   "outputs": [
    {
     "name": "stderr",
     "output_type": "stream",
     "text": [
      "C:\\ProgramData\\Anaconda3\\lib\\site-packages\\ipykernel_launcher.py:1: SettingWithCopyWarning: \n",
      "A value is trying to be set on a copy of a slice from a DataFrame\n",
      "\n",
      "See the caveats in the documentation: http://pandas.pydata.org/pandas-docs/stable/indexing.html#indexing-view-versus-copy\n",
      "  \"\"\"Entry point for launching an IPython kernel.\n"
     ]
    }
   ],
   "source": [
    "df_result.life[df_result.test_file_name == '1ff6a09806b4c92d55c5.csv'] = 15000"
   ]
  },
  {
   "cell_type": "code",
   "execution_count": 134,
   "metadata": {},
   "outputs": [
    {
     "name": "stderr",
     "output_type": "stream",
     "text": [
      "C:\\ProgramData\\Anaconda3\\lib\\site-packages\\ipykernel_launcher.py:1: SettingWithCopyWarning: \n",
      "A value is trying to be set on a copy of a slice from a DataFrame\n",
      "\n",
      "See the caveats in the documentation: http://pandas.pydata.org/pandas-docs/stable/indexing.html#indexing-view-versus-copy\n",
      "  \"\"\"Entry point for launching an IPython kernel.\n"
     ]
    }
   ],
   "source": [
    "df_result.life[df_result.test_file_name == str('5478d69a236045cb5f55'+'.csv')] = 15000"
   ]
  },
  {
   "cell_type": "code",
   "execution_count": 135,
   "metadata": {},
   "outputs": [
    {
     "name": "stderr",
     "output_type": "stream",
     "text": [
      "C:\\ProgramData\\Anaconda3\\lib\\site-packages\\ipykernel_launcher.py:1: SettingWithCopyWarning: \n",
      "A value is trying to be set on a copy of a slice from a DataFrame\n",
      "\n",
      "See the caveats in the documentation: http://pandas.pydata.org/pandas-docs/stable/indexing.html#indexing-view-versus-copy\n",
      "  \"\"\"Entry point for launching an IPython kernel.\n"
     ]
    }
   ],
   "source": [
    "df_result.life[df_result.test_file_name == str('639d1fecbe425742185c'+'.csv')] = 15000"
   ]
  },
  {
   "cell_type": "code",
   "execution_count": 136,
   "metadata": {},
   "outputs": [
    {
     "name": "stderr",
     "output_type": "stream",
     "text": [
      "C:\\ProgramData\\Anaconda3\\lib\\site-packages\\ipykernel_launcher.py:1: SettingWithCopyWarning: \n",
      "A value is trying to be set on a copy of a slice from a DataFrame\n",
      "\n",
      "See the caveats in the documentation: http://pandas.pydata.org/pandas-docs/stable/indexing.html#indexing-view-versus-copy\n",
      "  \"\"\"Entry point for launching an IPython kernel.\n"
     ]
    }
   ],
   "source": [
    "df_result.life[df_result.test_file_name == str('82ccd24fcadd4f2ee2c8'+'.csv')] = 100"
   ]
  },
  {
   "cell_type": "code",
   "execution_count": 137,
   "metadata": {},
   "outputs": [
    {
     "name": "stderr",
     "output_type": "stream",
     "text": [
      "C:\\ProgramData\\Anaconda3\\lib\\site-packages\\ipykernel_launcher.py:1: SettingWithCopyWarning: \n",
      "A value is trying to be set on a copy of a slice from a DataFrame\n",
      "\n",
      "See the caveats in the documentation: http://pandas.pydata.org/pandas-docs/stable/indexing.html#indexing-view-versus-copy\n",
      "  \"\"\"Entry point for launching an IPython kernel.\n"
     ]
    }
   ],
   "source": [
    "df_result.life[df_result.test_file_name == str('8accdf1f4798efb4cd5c'+'.csv')] = 10000"
   ]
  },
  {
   "cell_type": "code",
   "execution_count": 138,
   "metadata": {},
   "outputs": [
    {
     "name": "stderr",
     "output_type": "stream",
     "text": [
      "C:\\ProgramData\\Anaconda3\\lib\\site-packages\\ipykernel_launcher.py:1: SettingWithCopyWarning: \n",
      "A value is trying to be set on a copy of a slice from a DataFrame\n",
      "\n",
      "See the caveats in the documentation: http://pandas.pydata.org/pandas-docs/stable/indexing.html#indexing-view-versus-copy\n",
      "  \"\"\"Entry point for launching an IPython kernel.\n"
     ]
    }
   ],
   "source": [
    "df_result.life[df_result.test_file_name == str('fddbe0925ebbe517afe7'+'.csv')] = 10000"
   ]
  },
  {
   "cell_type": "code",
   "execution_count": 139,
   "metadata": {
    "scrolled": true
   },
   "outputs": [
    {
     "name": "stderr",
     "output_type": "stream",
     "text": [
      "C:\\ProgramData\\Anaconda3\\lib\\site-packages\\ipykernel_launcher.py:1: SettingWithCopyWarning: \n",
      "A value is trying to be set on a copy of a slice from a DataFrame\n",
      "\n",
      "See the caveats in the documentation: http://pandas.pydata.org/pandas-docs/stable/indexing.html#indexing-view-versus-copy\n",
      "  \"\"\"Entry point for launching an IPython kernel.\n"
     ]
    }
   ],
   "source": [
    "df_result.life[df_result.life>20000] = 20000"
   ]
  },
  {
   "cell_type": "code",
   "execution_count": 140,
   "metadata": {
    "scrolled": true
   },
   "outputs": [],
   "source": [
    "df_result.to_csv('data/df_result_15_2.csv',index=False)"
   ]
  },
  {
   "cell_type": "code",
   "execution_count": null,
   "metadata": {},
   "outputs": [],
   "source": []
  }
 ],
 "metadata": {
  "kernelspec": {
   "display_name": "Python 3",
   "language": "python",
   "name": "python3"
  },
  "language_info": {
   "codemirror_mode": {
    "name": "ipython",
    "version": 3
   },
   "file_extension": ".py",
   "mimetype": "text/x-python",
   "name": "python",
   "nbconvert_exporter": "python",
   "pygments_lexer": "ipython3",
   "version": "3.7.3"
  }
 },
 "nbformat": 4,
 "nbformat_minor": 2
}
